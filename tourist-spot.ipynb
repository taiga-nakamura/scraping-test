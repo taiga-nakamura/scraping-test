{
 "cells": [
  {
   "cell_type": "code",
   "execution_count": 5,
   "metadata": {},
   "outputs": [],
   "source": [
    "from selenium import webdriver\n",
    "import pandas\n",
    "\n",
    "browser = webdriver.Chrome()\n",
    "browser.get('https://scraping-for-beginner.herokuapp.com/ranking/')"
   ]
  },
  {
   "cell_type": "code",
   "execution_count": 35,
   "metadata": {},
   "outputs": [
    {
     "data": {
      "text/plain": [
       "'1\\n観光地 1\\n4.7\\n楽しさ\\n4.6\\n満喫できた\\n人混みの多さ\\n4.5\\n非常に空いていた\\n景色\\n4.9\\n信じられないような絶景であった\\nアクセス\\n4.2\\n渋滞に巻き込まれて3時間以上かかった'"
      ]
     },
     "execution_count": 35,
     "metadata": {},
     "output_type": "execute_result"
    }
   ],
   "source": [
    "touristSpots = []\n",
    "elms_touristSpot = browser.find_elements_by_class_name('u_areaListRankingBox')\n",
    "elms_touristSpot[0].text"
   ]
  },
  {
   "cell_type": "code",
   "execution_count": 86,
   "metadata": {},
   "outputs": [
    {
     "name": "stdout",
     "output_type": "stream",
     "text": [
      "[{'name': '観光地 1', 'total': '4.7', 'fun': '4.6', 'crowd': '4.5', 'view': '4.9', 'access': '4.2'}, {'name': '観光地 2', 'total': '4.7', 'fun': '4.6', 'crowd': '4.5', 'view': '4.9', 'access': '4.2'}, {'name': '観光地 3', 'total': '4.6', 'fun': '4.5', 'crowd': '4.4', 'view': '4.8', 'access': '4.1'}, {'name': '観光地 4', 'total': '4.5', 'fun': '4.4', 'crowd': '4.4', 'view': '4.8', 'access': '4.0'}, {'name': '観光地 5', 'total': '4.5', 'fun': '4.4', 'crowd': '4.3', 'view': '4.7', 'access': '4.0'}, {'name': '観光地 6', 'total': '4.4', 'fun': '4.3', 'crowd': '4.3', 'view': '4.7', 'access': '3.9'}, {'name': '観光地 7', 'total': '4.3', 'fun': '4.2', 'crowd': '4.2', 'view': '4.6', 'access': '3.8'}, {'name': '観光地 8', 'total': '4.3', 'fun': '4.2', 'crowd': '4.2', 'view': '4.6', 'access': '3.8'}, {'name': '観光地 9', 'total': '4.2', 'fun': '4.1', 'crowd': '4.1', 'view': '4.5', 'access': '3.7'}, {'name': '観光地 10', 'total': '4.1', 'fun': '4.0', 'crowd': '4.1', 'view': '4.4', 'access': '3.6'}, {'name': '観光地 1', 'total': '4.7', 'fun': '4.6', 'crowd': '4.5', 'view': '4.9', 'access': '4.2'}, {'name': '観光地 2', 'total': '4.7', 'fun': '4.6', 'crowd': '4.5', 'view': '4.9', 'access': '4.2'}, {'name': '観光地 3', 'total': '4.6', 'fun': '4.5', 'crowd': '4.4', 'view': '4.8', 'access': '4.1'}, {'name': '観光地 4', 'total': '4.5', 'fun': '4.4', 'crowd': '4.4', 'view': '4.8', 'access': '4.0'}, {'name': '観光地 5', 'total': '4.5', 'fun': '4.4', 'crowd': '4.3', 'view': '4.7', 'access': '4.0'}, {'name': '観光地 6', 'total': '4.4', 'fun': '4.3', 'crowd': '4.3', 'view': '4.7', 'access': '3.9'}, {'name': '観光地 7', 'total': '4.3', 'fun': '4.2', 'crowd': '4.2', 'view': '4.6', 'access': '3.8'}, {'name': '観光地 8', 'total': '4.3', 'fun': '4.2', 'crowd': '4.2', 'view': '4.6', 'access': '3.8'}, {'name': '観光地 9', 'total': '4.2', 'fun': '4.1', 'crowd': '4.1', 'view': '4.5', 'access': '3.7'}, {'name': '観光地 10', 'total': '4.1', 'fun': '4.0', 'crowd': '4.1', 'view': '4.4', 'access': '3.6'}]\n"
     ]
    }
   ],
   "source": [
    "for elm_touristSpot in elms_touristSpot:\n",
    "    pointCategories = ['fun', 'crowd', 'view', 'access']\n",
    "    touristSpot = {\n",
    "        'name': elm_touristSpot.find_element_by_css_selector('.u_title h2').text.split('\\n')[1],\n",
    "        'total': elm_touristSpot.find_element_by_css_selector('.u_rankBox .evaluateNumber').text\n",
    "    }\n",
    "    elms_points = elm_touristSpot.find_elements_by_css_selector('.u_categoryTipsItem .evaluateNumber')\n",
    "\n",
    "    for index, elm_points in enumerate(elms_points):\n",
    "        category = pointCategories[index]\n",
    "        touristSpot[category] = elm_points.text\n",
    "\n",
    "    touristSpots.append(touristSpot)\n",
    "\n",
    "print(touristSpots)"
   ]
  },
  {
   "cell_type": "code",
   "execution_count": null,
   "metadata": {},
   "outputs": [],
   "source": []
  },
  {
   "cell_type": "code",
   "execution_count": null,
   "metadata": {},
   "outputs": [],
   "source": []
  }
 ],
 "metadata": {
  "kernelspec": {
   "display_name": "Python 3",
   "language": "python",
   "name": "python3"
  },
  "language_info": {
   "codemirror_mode": {
    "name": "ipython",
    "version": 3
   },
   "file_extension": ".py",
   "mimetype": "text/x-python",
   "name": "python",
   "nbconvert_exporter": "python",
   "pygments_lexer": "ipython3",
   "version": "3.8.1"
  }
 },
 "nbformat": 4,
 "nbformat_minor": 4
}
