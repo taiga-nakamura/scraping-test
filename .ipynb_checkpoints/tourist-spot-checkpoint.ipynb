{
 "cells": [
  {
   "cell_type": "code",
   "execution_count": 5,
   "metadata": {},
   "outputs": [],
   "source": [
    "from selenium import webdriver\n",
    "import pandas\n",
    "\n",
    "browser = webdriver.Chrome()\n",
    "browser.get('https://scraping-for-beginner.herokuapp.com/ranking/')"
   ]
  },
  {
   "cell_type": "code",
   "execution_count": 35,
   "metadata": {},
   "outputs": [
    {
     "data": {
      "text/plain": [
       "'1\\n観光地 1\\n4.7\\n楽しさ\\n4.6\\n満喫できた\\n人混みの多さ\\n4.5\\n非常に空いていた\\n景色\\n4.9\\n信じられないような絶景であった\\nアクセス\\n4.2\\n渋滞に巻き込まれて3時間以上かかった'"
      ]
     },
     "execution_count": 35,
     "metadata": {},
     "output_type": "execute_result"
    }
   ],
   "source": [
    "touristSpots = []\n",
    "elms_touristSpot = browser.find_elements_by_class_name('u_areaListRankingBox')\n",
    "elms_touristSpot[0].text"
   ]
  },
  {
   "cell_type": "code",
   "execution_count": 50,
   "metadata": {},
   "outputs": [
    {
     "name": "stdout",
     "output_type": "stream",
     "text": [
      "{'name': '観光地 1', 'points': {'total': None, 'fun': None, 'crowd': None, 'view': None, 'access': None}}\n",
      "{'name': '観光地 2', 'points': {'total': None, 'fun': None, 'crowd': None, 'view': None, 'access': None}}\n",
      "{'name': '観光地 3', 'points': {'total': None, 'fun': None, 'crowd': None, 'view': None, 'access': None}}\n",
      "{'name': '観光地 4', 'points': {'total': None, 'fun': None, 'crowd': None, 'view': None, 'access': None}}\n",
      "{'name': '観光地 5', 'points': {'total': None, 'fun': None, 'crowd': None, 'view': None, 'access': None}}\n",
      "{'name': '観光地 6', 'points': {'total': None, 'fun': None, 'crowd': None, 'view': None, 'access': None}}\n",
      "{'name': '観光地 7', 'points': {'total': None, 'fun': None, 'crowd': None, 'view': None, 'access': None}}\n",
      "{'name': '観光地 8', 'points': {'total': None, 'fun': None, 'crowd': None, 'view': None, 'access': None}}\n",
      "{'name': '観光地 9', 'points': {'total': None, 'fun': None, 'crowd': None, 'view': None, 'access': None}}\n",
      "{'name': '観光地 10', 'points': {'total': None, 'fun': None, 'crowd': None, 'view': None, 'access': None}}\n"
     ]
    }
   ],
   "source": [
    "for elm_touristSpot in elms_touristSpot:\n",
    "    touristSpot = {\n",
    "        'name': '',\n",
    "        'points': {\n",
    "            'total': None,\n",
    "            'fun': None,\n",
    "            'crowd': None,\n",
    "            'view': None,\n",
    "            'access': None\n",
    "        }\n",
    "    }\n",
    "    elm_spotName = elm_touristSpot.find_element_by_css_selector('.u_title h2')\n",
    "    spotName = elm_spotName.text.split('\\n')[1]\n",
    "    touristSpot['name'] = spotName\n",
    "    print(touristSpot)"
   ]
  },
  {
   "cell_type": "code",
   "execution_count": 1,
   "metadata": {},
   "outputs": [
    {
     "ename": "NameError",
     "evalue": "name 'browser' is not defined",
     "output_type": "error",
     "traceback": [
      "\u001b[0;31m---------------------------------------------------------------------------\u001b[0m",
      "\u001b[0;31mNameError\u001b[0m                                 Traceback (most recent call last)",
      "\u001b[0;32m<ipython-input-1-deba40d57c56>\u001b[0m in \u001b[0;36m<module>\u001b[0;34m\u001b[0m\n\u001b[0;32m----> 1\u001b[0;31m \u001b[0mbrowser\u001b[0m\u001b[0;34m.\u001b[0m\u001b[0mfind_elements_by_css_selector\u001b[0m\u001b[0;34m(\u001b[0m\u001b[0;34m''\u001b[0m\u001b[0;34m)\u001b[0m\u001b[0;34m\u001b[0m\u001b[0;34m\u001b[0m\u001b[0m\n\u001b[0m",
      "\u001b[0;31mNameError\u001b[0m: name 'browser' is not defined"
     ]
    }
   ],
   "source": [
    "browser.find_elements_by_css_selector('')"
   ]
  },
  {
   "cell_type": "code",
   "execution_count": null,
   "metadata": {},
   "outputs": [],
   "source": []
  }
 ],
 "metadata": {
  "kernelspec": {
   "display_name": "Python 3",
   "language": "python",
   "name": "python3"
  },
  "language_info": {
   "codemirror_mode": {
    "name": "ipython",
    "version": 3
   },
   "file_extension": ".py",
   "mimetype": "text/x-python",
   "name": "python",
   "nbconvert_exporter": "python",
   "pygments_lexer": "ipython3",
   "version": "3.8.1"
  }
 },
 "nbformat": 4,
 "nbformat_minor": 4
}
